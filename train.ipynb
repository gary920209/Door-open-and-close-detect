{
 "cells": [
  {
   "cell_type": "code",
   "execution_count": 2,
   "id": "4222d277",
   "metadata": {
    "execution": {
     "iopub.execute_input": "2024-06-03T13:07:20.044607Z",
     "iopub.status.busy": "2024-06-03T13:07:20.043788Z",
     "iopub.status.idle": "2024-06-03T13:07:21.153027Z",
     "shell.execute_reply": "2024-06-03T13:07:21.152040Z"
    },
    "papermill": {
     "duration": 1.154842,
     "end_time": "2024-06-03T13:07:21.155512",
     "exception": false,
     "start_time": "2024-06-03T13:07:20.000670",
     "status": "completed"
    },
    "tags": []
   },
   "outputs": [
    {
     "name": "stdout",
     "output_type": "stream",
     "text": [
      "zsh:1: command not found: nvidia-smi\n"
     ]
    }
   ],
   "source": [
    "#please choose python >= 3.8\n",
    "!nvidia-smi\n"
   ]
  },
  {
   "cell_type": "code",
   "execution_count": 1,
   "id": "ac9e11f5",
   "metadata": {
    "execution": {
     "iopub.execute_input": "2024-06-03T13:07:21.238031Z",
     "iopub.status.busy": "2024-06-03T13:07:21.237238Z",
     "iopub.status.idle": "2024-06-03T13:07:56.302286Z",
     "shell.execute_reply": "2024-06-03T13:07:56.301164Z"
    },
    "papermill": {
     "duration": 35.109741,
     "end_time": "2024-06-03T13:07:56.304631",
     "exception": false,
     "start_time": "2024-06-03T13:07:21.194890",
     "status": "completed"
    },
    "tags": []
   },
   "outputs": [
    {
     "name": "stderr",
     "output_type": "stream",
     "text": [
      "Ultralytics YOLOv8.0.196 🚀 Python-3.8.19 torch-2.2.2 CPU (Apple M2)\n",
      "Setup complete ✅ (8 CPUs, 8.0 GB RAM, 264.2/460.4 GB disk)\n"
     ]
    }
   ],
   "source": [
    "!pip install ultralytics==8.0.196\n",
    "from IPython import display\n",
    "display.clear_output()\n",
    "import ultralytics\n",
    "ultralytics.checks()\n",
    "from ultralytics import YOLO\n",
    "from IPython.display import display, Image"
   ]
  },
  {
   "cell_type": "code",
   "execution_count": 5,
   "id": "afa1481e",
   "metadata": {},
   "outputs": [
    {
     "data": {
      "text/plain": [
       "'/Users/garylee/Desktop/Door open and close detect'"
      ]
     },
     "execution_count": 5,
     "metadata": {},
     "output_type": "execute_result"
    }
   ],
   "source": [
    "import os\n",
    "# check if we are in the right directory\n",
    "os.getcwd()"
   ]
  },
  {
   "cell_type": "code",
   "execution_count": 7,
   "id": "aa72f1f5",
   "metadata": {
    "execution": {
     "iopub.execute_input": "2024-06-03T13:07:56.755846Z",
     "iopub.status.busy": "2024-06-03T13:07:56.755366Z",
     "iopub.status.idle": "2024-06-03T17:23:57.835179Z",
     "shell.execute_reply": "2024-06-03T17:23:57.833880Z"
    },
    "papermill": {
     "duration": 15361.140576,
     "end_time": "2024-06-03T17:23:57.837624",
     "exception": false,
     "start_time": "2024-06-03T13:07:56.697048",
     "status": "completed"
    },
    "tags": []
   },
   "outputs": [
    {
     "name": "stdout",
     "output_type": "stream",
     "text": [
      "New https://pypi.org/project/ultralytics/8.2.28 available 😃 Update with 'pip install -U ultralytics'\n",
      "Ultralytics YOLOv8.0.196 🚀 Python-3.8.19 torch-2.2.2 CPU (Apple M2)\n",
      "\u001b[34m\u001b[1mengine/trainer: \u001b[0mtask=detect, mode=train, model=./pretrainmodel/yolov8x.pt, data=./alldata/data.yaml, epochs=25, patience=50, batch=8, imgsz=800, save=True, save_period=-1, cache=False, device=None, workers=8, project=None, name=None, exist_ok=False, pretrained=True, optimizer=auto, verbose=True, seed=0, deterministic=True, single_cls=False, rect=False, cos_lr=False, close_mosaic=10, resume=False, amp=True, fraction=1.0, profile=False, freeze=None, overlap_mask=True, mask_ratio=4, dropout=0.0, val=True, split=val, save_json=False, save_hybrid=False, conf=None, iou=0.7, max_det=300, half=True, dnn=False, plots=True, source=None, show=False, save_txt=False, save_conf=False, save_crop=False, show_labels=True, show_conf=True, vid_stride=1, stream_buffer=False, line_width=None, visualize=False, augment=False, agnostic_nms=False, classes=None, retina_masks=False, boxes=True, format=torchscript, keras=False, optimize=False, int8=False, dynamic=False, simplify=False, opset=None, workspace=4, nms=False, lr0=0.01, lrf=0.01, momentum=0.937, weight_decay=0.0005, warmup_epochs=3.0, warmup_momentum=0.8, warmup_bias_lr=0.1, box=7.5, cls=0.5, dfl=1.5, pose=12.0, kobj=1.0, label_smoothing=0.0, nbs=64, hsv_h=0.015, hsv_s=0.7, hsv_v=0.4, degrees=0.0, translate=0.1, scale=0.5, shear=0.0, perspective=0.0, flipud=0.0, fliplr=0.5, mosaic=1.0, mixup=0.0, copy_paste=0.0, cfg=None, tracker=botsort.yaml, save_dir=runs/detect/train2\n",
      "Traceback (most recent call last):\n",
      "  File \"/opt/miniconda3/envs/CVHW3/lib/python3.8/site-packages/ultralytics/engine/trainer.py\", line 118, in __init__\n",
      "    self.data = check_det_dataset(self.args.data)\n",
      "  File \"/opt/miniconda3/envs/CVHW3/lib/python3.8/site-packages/ultralytics/data/utils.py\", line 301, in check_det_dataset\n",
      "    raise FileNotFoundError(m)\n",
      "FileNotFoundError: \n",
      "Dataset 'alldata/data.yaml' images not found ⚠️, missing path '/Users/garylee/Downloads/datasets/alldata/valid/images'\n",
      "Note dataset download directory is '/Users/garylee/Downloads/datasets'. You can update this in '/Users/garylee/Library/Application Support/Ultralytics/settings.yaml'\n",
      "\n",
      "The above exception was the direct cause of the following exception:\n",
      "\n",
      "Traceback (most recent call last):\n",
      "  File \"/opt/miniconda3/envs/CVHW3/bin/yolo\", line 8, in <module>\n",
      "    sys.exit(entrypoint())\n",
      "  File \"/opt/miniconda3/envs/CVHW3/lib/python3.8/site-packages/ultralytics/cfg/__init__.py\", line 445, in entrypoint\n",
      "    getattr(model, mode)(**overrides)  # default args from model\n",
      "  File \"/opt/miniconda3/envs/CVHW3/lib/python3.8/site-packages/ultralytics/engine/model.py\", line 336, in train\n",
      "    self.trainer = (trainer or self._smart_load('trainer'))(overrides=args, _callbacks=self.callbacks)\n",
      "  File \"/opt/miniconda3/envs/CVHW3/lib/python3.8/site-packages/ultralytics/engine/trainer.py\", line 122, in __init__\n",
      "    raise RuntimeError(emojis(f\"Dataset '{clean_url(self.args.data)}' error ❌ {e}\")) from e\n",
      "RuntimeError: Dataset 'alldata/data.yaml' error ❌ \n",
      "Dataset 'alldata/data.yaml' images not found ⚠️, missing path '/Users/garylee/Downloads/datasets/alldata/valid/images'\n",
      "Note dataset download directory is '/Users/garylee/Downloads/datasets'. You can update this in '/Users/garylee/Library/Application Support/Ultralytics/settings.yaml'\n"
     ]
    }
   ],
   "source": [
    "#choose pretrain model = yolov8x.pt\n",
    "!yolo task=detect mode=train model=pretrainmodel/yolov8x.pt data=alldata/data.yaml epochs=25 imgsz=800 batch=8 half=True plots=True"
   ]
  }
 ],
 "metadata": {
  "kaggle": {
   "accelerator": "nvidiaTeslaT4",
   "dataSources": [
    {
     "datasetId": 5123265,
     "sourceId": 8568810,
     "sourceType": "datasetVersion"
    },
    {
     "datasetId": 5123364,
     "sourceId": 8568939,
     "sourceType": "datasetVersion"
    },
    {
     "datasetId": 5133704,
     "sourceId": 8583795,
     "sourceType": "datasetVersion"
    },
    {
     "datasetId": 5141356,
     "sourceId": 8594492,
     "sourceType": "datasetVersion"
    }
   ],
   "dockerImageVersionId": 30716,
   "isGpuEnabled": true,
   "isInternetEnabled": true,
   "language": "python",
   "sourceType": "notebook"
  },
  "kernelspec": {
   "display_name": "Python 3",
   "language": "python",
   "name": "python3"
  },
  "language_info": {
   "codemirror_mode": {
    "name": "ipython",
    "version": 3
   },
   "file_extension": ".py",
   "mimetype": "text/x-python",
   "name": "python",
   "nbconvert_exporter": "python",
   "pygments_lexer": "ipython3",
   "version": "3.8.19"
  },
  "papermill": {
   "default_parameters": {},
   "duration": 15418.706438,
   "end_time": "2024-06-03T17:24:00.605316",
   "environment_variables": {},
   "exception": null,
   "input_path": "__notebook__.ipynb",
   "output_path": "__notebook__.ipynb",
   "parameters": {},
   "start_time": "2024-06-03T13:07:01.898878",
   "version": "2.5.0"
  }
 },
 "nbformat": 4,
 "nbformat_minor": 5
}
